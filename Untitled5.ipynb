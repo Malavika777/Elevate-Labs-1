{
 "cells": [
  {
   "cell_type": "code",
   "execution_count": 3,
   "id": "72bdab37",
   "metadata": {},
   "outputs": [
    {
     "name": "stdout",
     "output_type": "stream",
     "text": [
      "Requirement already satisfied: mysql-connector-python in c:\\users\\srini\\anaconda3\\lib\\site-packages (9.0.0)\n"
     ]
    }
   ],
   "source": [
    "!pip install mysql-connector-python"
   ]
  },
  {
   "cell_type": "code",
   "execution_count": 38,
   "id": "ea2f7d58",
   "metadata": {},
   "outputs": [],
   "source": [
    "import mysql.connector\n",
    "from mysql.connector import Error\n",
    "import pandas as pd\n",
    "from datetime import datetime,date"
   ]
  },
  {
   "cell_type": "code",
   "execution_count": 21,
   "id": "cac69855",
   "metadata": {},
   "outputs": [],
   "source": [
    "def create_server_connection(host_name,user_name,user_password):\n",
    "    connection=None\n",
    "    try:\n",
    "        connection=mysql.connector.connect(\n",
    "            host=host_name,\n",
    "            user=user_name,\n",
    "            password=user_password\n",
    "        )\n",
    "        print(\"MySQL Database connection SUCCESSFULL\")\n",
    "    except Error as err:\n",
    "        print(f\"Error:'{err}'\")\n",
    "    return connection\n",
    "    "
   ]
  },
  {
   "cell_type": "code",
   "execution_count": 22,
   "id": "43f693b9",
   "metadata": {},
   "outputs": [
    {
     "name": "stdout",
     "output_type": "stream",
     "text": [
      "MySQL Database connection SUCCESSFULL\n"
     ]
    }
   ],
   "source": [
    "connection=create_server_connection(\"localhost\",\"root\",\"Malu@2005\")"
   ]
  },
  {
   "cell_type": "code",
   "execution_count": 23,
   "id": "5322a151",
   "metadata": {},
   "outputs": [],
   "source": [
    "def create_database(connection,query):\n",
    "    cursor=connection.cursor()\n",
    "    try:\n",
    "        cursor.execute(query)\n",
    "        print(\"Database created SUCCESSFULLY\")\n",
    "    except Error as err:\n",
    "        print(f\"Error:'{err}'\")\n",
    "    "
   ]
  },
  {
   "cell_type": "code",
   "execution_count": 24,
   "id": "a0a2fa1b",
   "metadata": {},
   "outputs": [
    {
     "name": "stdout",
     "output_type": "stream",
     "text": [
      "Error:'1007 (HY000): Can't create database 'company'; database exists'\n"
     ]
    }
   ],
   "source": [
    "create_db_query='CREATE DATABASE company'\n",
    "create_database(connection,create_db_query)"
   ]
  },
  {
   "cell_type": "code",
   "execution_count": 28,
   "id": "f84c7645",
   "metadata": {},
   "outputs": [],
   "source": [
    "def create_db_connection(host_name,user_name,user_password,db_name):\n",
    "    conn=None\n",
    "    try:\n",
    "        connection=mysql.connector.connect(\n",
    "            host=host_name,\n",
    "            user=user_name,\n",
    "            password=user_password,\n",
    "            database=db_name\n",
    "        )\n",
    "        print(\"MySQL Database connection SUCCESSFULL\")\n",
    "    except Error as err:\n",
    "        print(f\"Error:'{err}'\")\n",
    "    return connection"
   ]
  },
  {
   "cell_type": "code",
   "execution_count": 29,
   "id": "17ae07ad",
   "metadata": {},
   "outputs": [],
   "source": [
    "def execute_query(connection,query):\n",
    "    cursor=connection.cursor()\n",
    "    try:\n",
    "        cursor.execute(query)\n",
    "        connection.commit()\n",
    "        print(\"Query SUCCESSFULL\")\n",
    "    except Error as err:\n",
    "        print(f\"Error:'{err}'\")"
   ]
  },
  {
   "cell_type": "code",
   "execution_count": 30,
   "id": "12dbbb5f",
   "metadata": {},
   "outputs": [
    {
     "name": "stdout",
     "output_type": "stream",
     "text": [
      "MySQL Database connection SUCCESSFULL\n",
      "Query SUCCESSFULL\n"
     ]
    }
   ],
   "source": [
    "create_emp_table=\"\"\"\n",
    "CREATE TABLE emp(\n",
    "    emp_no INT(11) NOT NULL AUTO_INCREMENT,\n",
    "    first_name varchar(15) NOT NULL,\n",
    "    last_name varchar(15) NOT NULL,\n",
    "    hire_date varchar(15) NOT NULL,\n",
    "    gender ENUM('M','F') NOT NULL,\n",
    "    birth_date varchar(15) NOT NULL,\n",
    "    PRIMARY KEY(emp_no)\n",
    "    );\n",
    "\"\"\"\n",
    "connection=create_db_connection(\"localhost\",\"root\",\"Malu@2005\",'company')\n",
    "execute_query(connection,create_emp_table)"
   ]
  },
  {
   "cell_type": "code",
   "execution_count": 32,
   "id": "2c134cbd",
   "metadata": {},
   "outputs": [
    {
     "name": "stdout",
     "output_type": "stream",
     "text": [
      "MySQL Database connection SUCCESSFULL\n",
      "Error:'1050 (42S01): Table 'departments' already exists'\n",
      "Query SUCCESSFULL\n"
     ]
    }
   ],
   "source": [
    "create_departments_table = \"\"\"\n",
    "CREATE TABLE departments (\n",
    "    dept_no VARCHAR(10) NOT NULL,\n",
    "    dept_name VARCHAR(40) NOT NULL,\n",
    "    PRIMARY KEY (dept_no), \n",
    "    UNIQUE KEY dept_name(dept_name)\n",
    "    );\n",
    "\"\"\"\n",
    "create_salaries_table = \"\"\"\n",
    "CREATE TABLE salaries (\n",
    "    emp_no INT(11) NOT NULL,\n",
    "    salary INT(11) NOT NULL,\n",
    "    from_date VARCHAR(15) NOT NULL,\n",
    "    to_date VARCHAR(15) NOT NULL,\n",
    "    PRIMARY KEY (emp_no,from_date), \n",
    "    KEY emp_no (emp_no),\n",
    "    CONSTRAINT salaries_ibfk_1 FOREIGN KEY (emp_no)\n",
    "        REFERENCES emp (emp_no) ON DELETE CASCADE\n",
    "    );\n",
    "\"\"\"\n",
    "connection=create_db_connection(\"localhost\",\"root\",'Malu@2005','company')\n",
    "execute_query(connection,create_departments_table)\n",
    "execute_query(connection,create_salaries_table)"
   ]
  },
  {
   "cell_type": "code",
   "execution_count": 34,
   "id": "1366057b",
   "metadata": {},
   "outputs": [
    {
     "name": "stdout",
     "output_type": "stream",
     "text": [
      "MySQL Database connection SUCCESSFULL\n",
      "Error:'1050 (42S01): Table 'dept_emp' already exists'\n",
      "Error:'1050 (42S01): Table 'dept_manager' already exists'\n",
      "Query SUCCESSFULL\n"
     ]
    }
   ],
   "source": [
    "create_deptemp_table = \"\"\"\n",
    "CREATE TABLE dept_emp (\n",
    "    emp_no INT(11) NOT NULL,\n",
    "    dept_no VARCHAR(10) NOT NULL,\n",
    "    from_date VARCHAR(15) NOT NULL,\n",
    "    to_date VARCHAR(15) NOT NULL,\n",
    "    PRIMARY KEY (emp_no, dept_no), \n",
    "    KEY emp_no (emp_no),\n",
    "    KEY dept_no (dept_no),\n",
    "    CONSTRAINT dept_emp_ibfk_1 FOREIGN KEY (emp_no)\n",
    "        REFERENCES emp (emp_no) ON DELETE CASCADE,\n",
    "    CONSTRAINT dept_emp_ibfk_2 FOREIGN KEY (dept_no)\n",
    "        REFERENCES departments (dept_no) ON DELETE CASCADE\n",
    ");\n",
    "\"\"\"\n",
    "\n",
    "create_dept_manager_table = \"\"\"\n",
    "CREATE TABLE dept_manager (\n",
    "    emp_no INT(11) NOT NULL,\n",
    "    dept_no VARCHAR(10) NOT NULL,\n",
    "    from_date VARCHAR(15) NOT NULL,\n",
    "    to_date VARCHAR(15) NOT NULL,\n",
    "    PRIMARY KEY (emp_no, dept_no),\n",
    "    KEY emp_no (emp_no),\n",
    "    KEY dept_no (dept_no),\n",
    "    CONSTRAINT dept_manager_ibfk_1 FOREIGN KEY (emp_no) \n",
    "        REFERENCES emp (emp_no) ON DELETE CASCADE,\n",
    "    CONSTRAINT dept_manager_ibfk_2 FOREIGN KEY (dept_no)\n",
    "        REFERENCES departments (dept_no) ON DELETE CASCADE\n",
    "    );\n",
    "\"\"\"\n",
    "create_titles_table =\"\"\"\n",
    "CREATE TABLE titles (\n",
    "    emp_no INT(11) NOT NULL,\n",
    "    title VARCHAR(50) NOT NULL,\n",
    "    from_date VARCHAR(15) NOT NULL,\n",
    "    to_date VARCHAR(15) DEFAULT NULL,\n",
    "    PRIMARY KEY (emp_no,title,from_date), KEY emp_no (emp_no),\n",
    "    CONSTRAINT titles_ibfk_1 FOREIGN KEY (emp_no)\n",
    "        REFERENCES emp (emp_no) ON DELETE CASCADE\n",
    "    );\n",
    "\"\"\"\n",
    "connection=create_db_connection(\"localhost\",\"root\",'Malu@2005','company')\n",
    "execute_query(connection,create_deptemp_table)\n",
    "execute_query(connection,create_dept_manager_table)\n",
    "execute_query(connection,create_titles_table)"
   ]
  },
  {
   "cell_type": "code",
   "execution_count": 37,
   "id": "45ed9ae3",
   "metadata": {},
   "outputs": [
    {
     "name": "stdout",
     "output_type": "stream",
     "text": [
      "MySQL Database connection SUCCESSFULL\n",
      "Query SUCCESSFULL\n"
     ]
    }
   ],
   "source": [
    "pop_employee = \"\"\"\n",
    "INSERT INTO emp VALUES\n",
    "(1, 'Raju', 'Rathi', '1999-02-20', 'M', '1977-06-14'),\n",
    "(2, 'Shyam', 'Naik', '2007-11-08', 'M', '1985-11-01'), \n",
    "(3, 'Baburao', 'Apte', '2014-06-11', 'M', '1984-02-01'),\n",
    "(4, 'Anjali', 'Pande', '2000-08-23', 'F', '1978-05-19'),\n",
    "(5, 'Abhilasha', 'Mohite', '2020-03-30', 'F', '1994-01-17'),\n",
    "(6, 'Suresh', 'Kadam', '1999-02-21', 'M', '1977-08-21'),\n",
    "(7, 'Manish', 'Joshi', '2014-06-11', 'M', '1992-09-29'),\n",
    "(8, 'Radha',  'Marathe', '2020-03-29', 'F', '1988-11-22')\n",
    "\"\"\"\n",
    "\n",
    "connection = create_db_connection(\"localhost\", \"root\", 'Malu@2005', 'company')\n",
    "execute_query(connection, pop_employee)"
   ]
  },
  {
   "cell_type": "code",
   "execution_count": 39,
   "id": "e73936ab",
   "metadata": {},
   "outputs": [
    {
     "name": "stdout",
     "output_type": "stream",
     "text": [
      "MySQL Database connection SUCCESSFULL\n",
      "Query SUCCESSFULL\n",
      "Query SUCCESSFULL\n",
      "Query SUCCESSFULL\n"
     ]
    }
   ],
   "source": [
    "pop_dept = \"\"\"\n",
    "INSERT INTO departments VALUES\n",
    "('HR01', 'Human Resources'),\n",
    "('SFT01', 'S.Development'),\n",
    "('SFT02', 'S.Testing'),\n",
    "('MKT01', 'Marketing')\n",
    "\"\"\"\n",
    "\n",
    "\n",
    "pop_manager = \"\"\"\n",
    "INSERT INTO dept_manager VALUES\n",
    "(2, 'SFT01','2008-12-20','2012-03-19'),\n",
    "(3, 'MKT01', '2014-06-11', '2020-10-04'),\n",
    "(6, 'SFT02', '2002-04-07','2004-11-10'),\n",
    "(8, 'HR01', '2020-03-29','2022-03-03')\n",
    "\"\"\" \n",
    "    \n",
    "\n",
    "pop_title = \"\"\"\n",
    "INSERT INTO titles VALUES\n",
    "(1,'Sr.Soft.Developer','2002-12-06', '2007-07-18'),\n",
    "(2,'Soft.Developer Mngr.','2008-12-20', '2012-03-19'),\n",
    "(3,'Marketing Mngr','2014-06-11', '2020-10-04'),\n",
    "(4,'Soft.Tester','2000-08-23', '2005-12-03'),\n",
    "(5,'HR Staff','2020-03-30','2021-10-09'),\n",
    "(6,'Soft.Tester Mngr','2002-12-06','2004-11-10'),\n",
    "(7,'Marketing Staff','2014-06-11','2016-12-04'),\n",
    "(8,'HR Manager','2020-03-29','2022-03-03')\n",
    "\"\"\"\n",
    "    \n",
    "    \n",
    "connection = create_db_connection(\"localhost\", \"root\", 'Malu@2005', 'company')\n",
    "\n",
    "execute_query(connection, pop_dept)\n",
    "execute_query(connection, pop_manager)\n",
    "execute_query(connection, pop_title)"
   ]
  },
  {
   "cell_type": "code",
   "execution_count": 42,
   "id": "f64ada58",
   "metadata": {},
   "outputs": [],
   "source": [
    "#ALTERANTE METHOD FOR INSERTING VALUES\n",
    "def execute_list_query(connection,sql,val):\n",
    "    cursor=connection.cursor()\n",
    "    try:\n",
    "        cursor.executemany(sql,val)\n",
    "        connection.commit()\n",
    "        print(\"Query SUCCESSFULL\")\n",
    "    except Error as err:\n",
    "        print(f \"Error:'{err}'\")"
   ]
  },
  {
   "cell_type": "code",
   "execution_count": 44,
   "id": "931df525",
   "metadata": {},
   "outputs": [
    {
     "name": "stdout",
     "output_type": "stream",
     "text": [
      "MySQL Database connection SUCCESSFULL\n",
      "Query SUCCESSFULL\n",
      "Query SUCCESSFULL\n"
     ]
    }
   ],
   "source": [
    "pop_salary = \"\"\"INSERT INTO salaries (emp_no, salary, from_date, to_date) VALUES (%s, %s, %s, %s)\"\"\"\n",
    "\n",
    "today = datetime.now().date()\n",
    "\n",
    "sal_data = [(1, 1234567, '1999-02-20', today.isoformat()),\n",
    "(2, 2345678, '2007-11-08', today.isoformat()),\n",
    "(3, 3456789, '2014-06-11', today.isoformat()),\n",
    "(4, 4567890, '2000-08-23', today.isoformat()),\n",
    "(5, 5678901, '2020-03-30', today.isoformat()),\n",
    "(6, 6789012, '1999-02-21', today.isoformat()),\n",
    "(7, 7890123, '2014-06-11', today.isoformat()),\n",
    "(8, 8901234, '2020-03-29', today.isoformat())]\n",
    "    \n",
    "pop_deptemp = \"\"\"INSERT INTO dept_emp (emp_no, dept_no, from_date, to_date) VALUES (%s, %s, %s, %s)\"\"\"\n",
    "\n",
    "deptemp_data = [(1, 'SFT01','1999-02-20', today.isoformat()),\n",
    "(2, 'SFT01','2007-11-08',today.isoformat()),\n",
    "(3, 'MKT01','2014-06-11',today.isoformat()),\n",
    "(4, 'SFT02','2000-08-23',today.isoformat()),\n",
    "(5, 'HR01','2020-03-30',today.isoformat()),\n",
    "(6, 'SFT02','1999-02-21',today.isoformat()),\n",
    "(7, 'MKT01','2014-06-11',today.isoformat()),\n",
    "(8, 'HR01','2020-03-29',today.isoformat())]\n",
    "\n",
    "connection = create_db_connection(\"localhost\", \"root\", 'Malu@2005', 'company')\n",
    "execute_list_query(connection, pop_salary, sal_data)\n",
    "execute_list_query(connection, pop_deptemp, deptemp_data)"
   ]
  },
  {
   "cell_type": "code",
   "execution_count": 45,
   "id": "fb1700db",
   "metadata": {},
   "outputs": [],
   "source": [
    "def read_query(connection, query):\n",
    "    cursor = connection.cursor()\n",
    "    result = None\n",
    "    try:\n",
    "        cursor.execute(query)\n",
    "        result = cursor.fetchall()\n",
    "        return result\n",
    "    except Error as err:\n",
    "        print(f\"Error: '{err}'\")"
   ]
  },
  {
   "cell_type": "code",
   "execution_count": 47,
   "id": "cbdf6c9f",
   "metadata": {},
   "outputs": [
    {
     "name": "stdout",
     "output_type": "stream",
     "text": [
      "MySQL Database connection SUCCESSFULL\n"
     ]
    },
    {
     "data": {
      "text/plain": [
       "[(1, 'Raju', 'Rathi', '1999-02-20', 'M', '1977-06-14'),\n",
       " (2, 'Shyam', 'Naik', '2007-11-08', 'M', '1985-11-01'),\n",
       " (3, 'Baburao', 'Apte', '2014-06-11', 'M', '1984-02-01'),\n",
       " (4, 'Anjali', 'Pande', '2000-08-23', 'F', '1978-05-19'),\n",
       " (5, 'Abhilasha', 'Mohite', '2020-03-30', 'F', '1994-01-17'),\n",
       " (6, 'Suresh', 'Kadam', '1999-02-21', 'M', '1977-08-21'),\n",
       " (7, 'Manish', 'Joshi', '2014-06-11', 'M', '1992-09-29'),\n",
       " (8, 'Radha', 'Marathe', '2020-03-29', 'F', '1988-11-22')]"
      ]
     },
     "execution_count": 47,
     "metadata": {},
     "output_type": "execute_result"
    }
   ],
   "source": [
    "q1 = \"\"\"\n",
    "SELECT *\n",
    "FROM emp;\n",
    "\"\"\"\n",
    "\n",
    "connection = create_db_connection(\"localhost\", \"root\", 'Malu@2005', 'company')\n",
    "results = read_query(connection, q1)\n",
    "\n",
    "results"
   ]
  },
  {
   "cell_type": "code",
   "execution_count": 48,
   "id": "e814a348",
   "metadata": {},
   "outputs": [
    {
     "name": "stdout",
     "output_type": "stream",
     "text": [
      "(1, 'Raju', 'Rathi', '1999-02-20', 'M', '1977-06-14')\n",
      "(2, 'Shyam', 'Naik', '2007-11-08', 'M', '1985-11-01')\n",
      "(3, 'Baburao', 'Apte', '2014-06-11', 'M', '1984-02-01')\n",
      "(4, 'Anjali', 'Pande', '2000-08-23', 'F', '1978-05-19')\n",
      "(5, 'Abhilasha', 'Mohite', '2020-03-30', 'F', '1994-01-17')\n",
      "(6, 'Suresh', 'Kadam', '1999-02-21', 'M', '1977-08-21')\n",
      "(7, 'Manish', 'Joshi', '2014-06-11', 'M', '1992-09-29')\n",
      "(8, 'Radha', 'Marathe', '2020-03-29', 'F', '1988-11-22')\n"
     ]
    }
   ],
   "source": [
    "for r in results:\n",
    "    print(r)"
   ]
  },
  {
   "cell_type": "code",
   "execution_count": 50,
   "id": "4e591fa5",
   "metadata": {},
   "outputs": [
    {
     "name": "stdout",
     "output_type": "stream",
     "text": [
      "MySQL Database connection SUCCESSFULL\n",
      "[('Shyam', 'Naik'), ('Baburao', 'Apte'), ('Suresh', 'Kadam'), ('Radha', 'Marathe')]\n"
     ]
    }
   ],
   "source": [
    "q2 = \"\"\"\n",
    "SELECT emp.first_name, emp.last_name FROM emp JOIN dept_manager ON emp.emp_no = dept_manager.emp_no;\n",
    "\"\"\"\n",
    "connection = create_db_connection(\"localhost\", \"root\", 'Malu@2005', 'company')\n",
    "results = read_query(connection, q2)\n",
    "\n",
    "print(results)"
   ]
  },
  {
   "cell_type": "code",
   "execution_count": 51,
   "id": "5218c82c",
   "metadata": {},
   "outputs": [
    {
     "name": "stdout",
     "output_type": "stream",
     "text": [
      "MySQL Database connection SUCCESSFULL\n",
      "[(2, 'Shyam', 'Naik', 'SFT01', 'Soft.Developer Mngr.', '2007-11-08', '2024-09-06', 2345678), (3, 'Baburao', 'Apte', 'MKT01', 'Marketing Mngr', '2014-06-11', '2024-09-06', 3456789), (6, 'Suresh', 'Kadam', 'SFT02', 'Soft.Tester Mngr', '1999-02-21', '2024-09-06', 6789012), (8, 'Radha', 'Marathe', 'HR01', 'HR Manager', '2020-03-29', '2024-09-06', 8901234)]\n"
     ]
    }
   ],
   "source": [
    "q3 = \"\"\"\n",
    "SELECT dept_emp.emp_no, emp.first_name, emp.last_name, dept_manager.dept_no, titles.title, salaries.from_date, salaries.to_date, salaries.salary FROM dept_emp  JOIN dept_manager ON dept_emp.emp_no = dept_manager.emp_no JOIN titles on dept_manager.emp_no = titles.emp_no JOIN emp ON emp.emp_no = dept_manager.emp_no JOIN salaries ON salaries.emp_no = dept_manager.emp_no\"\"\"\n",
    "\n",
    "connection = create_db_connection(\"localhost\", \"root\", 'Malu@2005', 'company')\n",
    "results = read_query(connection, q3)\n",
    "\n",
    "print(results)"
   ]
  },
  {
   "cell_type": "code",
   "execution_count": 52,
   "id": "9a864323",
   "metadata": {},
   "outputs": [
    {
     "data": {
      "text/html": [
       "<div>\n",
       "<style scoped>\n",
       "    .dataframe tbody tr th:only-of-type {\n",
       "        vertical-align: middle;\n",
       "    }\n",
       "\n",
       "    .dataframe tbody tr th {\n",
       "        vertical-align: top;\n",
       "    }\n",
       "\n",
       "    .dataframe thead th {\n",
       "        text-align: right;\n",
       "    }\n",
       "</style>\n",
       "<table border=\"1\" class=\"dataframe\">\n",
       "  <thead>\n",
       "    <tr style=\"text-align: right;\">\n",
       "      <th></th>\n",
       "      <th>Employee_no</th>\n",
       "      <th>First_name</th>\n",
       "      <th>Last_name</th>\n",
       "      <th>Department no.</th>\n",
       "      <th>Job_role</th>\n",
       "      <th>From_date</th>\n",
       "      <th>To_date</th>\n",
       "      <th>Salary</th>\n",
       "    </tr>\n",
       "  </thead>\n",
       "  <tbody>\n",
       "    <tr>\n",
       "      <th>0</th>\n",
       "      <td>2</td>\n",
       "      <td>Shyam</td>\n",
       "      <td>Naik</td>\n",
       "      <td>SFT01</td>\n",
       "      <td>Soft.Developer Mngr.</td>\n",
       "      <td>2007-11-08</td>\n",
       "      <td>2024-09-06</td>\n",
       "      <td>2345678</td>\n",
       "    </tr>\n",
       "    <tr>\n",
       "      <th>1</th>\n",
       "      <td>3</td>\n",
       "      <td>Baburao</td>\n",
       "      <td>Apte</td>\n",
       "      <td>MKT01</td>\n",
       "      <td>Marketing Mngr</td>\n",
       "      <td>2014-06-11</td>\n",
       "      <td>2024-09-06</td>\n",
       "      <td>3456789</td>\n",
       "    </tr>\n",
       "    <tr>\n",
       "      <th>2</th>\n",
       "      <td>6</td>\n",
       "      <td>Suresh</td>\n",
       "      <td>Kadam</td>\n",
       "      <td>SFT02</td>\n",
       "      <td>Soft.Tester Mngr</td>\n",
       "      <td>1999-02-21</td>\n",
       "      <td>2024-09-06</td>\n",
       "      <td>6789012</td>\n",
       "    </tr>\n",
       "    <tr>\n",
       "      <th>3</th>\n",
       "      <td>8</td>\n",
       "      <td>Radha</td>\n",
       "      <td>Marathe</td>\n",
       "      <td>HR01</td>\n",
       "      <td>HR Manager</td>\n",
       "      <td>2020-03-29</td>\n",
       "      <td>2024-09-06</td>\n",
       "      <td>8901234</td>\n",
       "    </tr>\n",
       "  </tbody>\n",
       "</table>\n",
       "</div>"
      ],
      "text/plain": [
       "   Employee_no First_name Last_name Department no.              Job_role  \\\n",
       "0            2      Shyam      Naik          SFT01  Soft.Developer Mngr.   \n",
       "1            3    Baburao      Apte          MKT01        Marketing Mngr   \n",
       "2            6     Suresh     Kadam          SFT02      Soft.Tester Mngr   \n",
       "3            8      Radha   Marathe           HR01            HR Manager   \n",
       "\n",
       "    From_date     To_date   Salary  \n",
       "0  2007-11-08  2024-09-06  2345678  \n",
       "1  2014-06-11  2024-09-06  3456789  \n",
       "2  1999-02-21  2024-09-06  6789012  \n",
       "3  2020-03-29  2024-09-06  8901234  "
      ]
     },
     "execution_count": 52,
     "metadata": {},
     "output_type": "execute_result"
    }
   ],
   "source": [
    "# Returns a list of lists and then creates a pandas DataFrame\n",
    "import pandas as pd\n",
    "\n",
    "columns = [\"Employee_no\", \"First_name\", \"Last_name\", \"Department no.\", \"Job_role\", \"From_date\", \"To_date\", \"Salary\"]\n",
    "df = pd.DataFrame(results, columns=columns)\n",
    "\n",
    "df.head()"
   ]
  },
  {
   "cell_type": "code",
   "execution_count": null,
   "id": "81e778d2",
   "metadata": {},
   "outputs": [],
   "source": []
  },
  {
   "cell_type": "code",
   "execution_count": null,
   "id": "5c268918",
   "metadata": {},
   "outputs": [],
   "source": []
  },
  {
   "cell_type": "code",
   "execution_count": null,
   "id": "cd747920",
   "metadata": {},
   "outputs": [],
   "source": []
  }
 ],
 "metadata": {
  "kernelspec": {
   "display_name": "Python 3 (ipykernel)",
   "language": "python",
   "name": "python3"
  },
  "language_info": {
   "codemirror_mode": {
    "name": "ipython",
    "version": 3
   },
   "file_extension": ".py",
   "mimetype": "text/x-python",
   "name": "python",
   "nbconvert_exporter": "python",
   "pygments_lexer": "ipython3",
   "version": "3.9.13"
  }
 },
 "nbformat": 4,
 "nbformat_minor": 5
}
